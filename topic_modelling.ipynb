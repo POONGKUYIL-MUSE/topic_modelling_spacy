{
  "nbformat": 4,
  "nbformat_minor": 0,
  "metadata": {
    "colab": {
      "provenance": [],
      "gpuType": "T4"
    },
    "kernelspec": {
      "name": "python3",
      "display_name": "Python 3"
    },
    "language_info": {
      "name": "python"
    },
    "accelerator": "GPU",
    "gpuClass": "standard"
  },
  "cells": [
    {
      "cell_type": "code",
      "execution_count": 1,
      "metadata": {
        "colab": {
          "base_uri": "https://localhost:8080/"
        },
        "id": "kX4Q70U3CoYb",
        "outputId": "374fb53a-ceee-4a5b-e61d-54640ee78207"
      },
      "outputs": [
        {
          "output_type": "stream",
          "name": "stdout",
          "text": [
            "Mounted at /content/drive\n"
          ]
        }
      ],
      "source": [
        "from google.colab import drive\n",
        "drive.mount('/content/drive')"
      ]
    },
    {
      "cell_type": "code",
      "source": [
        "base_path = \"/content/drive/MyDrive/Research 2/dataset/\""
      ],
      "metadata": {
        "id": "R5ExUEgkDSkK"
      },
      "execution_count": 2,
      "outputs": []
    },
    {
      "cell_type": "code",
      "source": [
        "import pandas as pd\n",
        "\n",
        "sample_data =  pd.read_csv(base_path + \"train.csv\")\n",
        "sample_data.head()"
      ],
      "metadata": {
        "colab": {
          "base_uri": "https://localhost:8080/",
          "height": 206
        },
        "id": "ZkAR1MGkDuAZ",
        "outputId": "60a58fd3-c275-459e-f6d9-76e4f527e866"
      },
      "execution_count": 3,
      "outputs": [
        {
          "output_type": "execute_result",
          "data": {
            "text/plain": [
              "   Unnamed: 0                                            article  \\\n",
              "0           0  LONDON, England (Reuters) -- Harry Potter star...   \n",
              "1           1  Editor's note: In our Behind the Scenes series...   \n",
              "2           2  MINNEAPOLIS, Minnesota (CNN) -- Drivers who we...   \n",
              "3           3  WASHINGTON (CNN) -- Doctors removed five small...   \n",
              "4           4  (CNN)  -- The National Football League has ind...   \n",
              "\n",
              "                                          highlights  \\\n",
              "0  Harry Potter star Daniel Radcliffe gets £20M f...   \n",
              "1  Mentally ill inmates in Miami are housed on th...   \n",
              "2  NEW: \"I thought I was going to die,\" driver sa...   \n",
              "3  Five small polyps found during procedure; \"non...   \n",
              "4  NEW: NFL chief, Atlanta Falcons owner critical...   \n",
              "\n",
              "                                         id  \n",
              "0  42c027e4ff9730fbb3de84c1af0d2c506e41c3e4  \n",
              "1  ee8871b15c50d0db17b0179a6d2beab35065f1e9  \n",
              "2  06352019a19ae31e527f37f7571c6dd7f0c5da37  \n",
              "3  24521a2abb2e1f5e34e6824e0f9e56904a2b0e88  \n",
              "4  7fe70cc8b12fab2d0a258fababf7d9c6b5e1262a  "
            ],
            "text/html": [
              "\n",
              "  <div id=\"df-d0ec88d4-0596-42c5-a244-708df45f8259\">\n",
              "    <div class=\"colab-df-container\">\n",
              "      <div>\n",
              "<style scoped>\n",
              "    .dataframe tbody tr th:only-of-type {\n",
              "        vertical-align: middle;\n",
              "    }\n",
              "\n",
              "    .dataframe tbody tr th {\n",
              "        vertical-align: top;\n",
              "    }\n",
              "\n",
              "    .dataframe thead th {\n",
              "        text-align: right;\n",
              "    }\n",
              "</style>\n",
              "<table border=\"1\" class=\"dataframe\">\n",
              "  <thead>\n",
              "    <tr style=\"text-align: right;\">\n",
              "      <th></th>\n",
              "      <th>Unnamed: 0</th>\n",
              "      <th>article</th>\n",
              "      <th>highlights</th>\n",
              "      <th>id</th>\n",
              "    </tr>\n",
              "  </thead>\n",
              "  <tbody>\n",
              "    <tr>\n",
              "      <th>0</th>\n",
              "      <td>0</td>\n",
              "      <td>LONDON, England (Reuters) -- Harry Potter star...</td>\n",
              "      <td>Harry Potter star Daniel Radcliffe gets £20M f...</td>\n",
              "      <td>42c027e4ff9730fbb3de84c1af0d2c506e41c3e4</td>\n",
              "    </tr>\n",
              "    <tr>\n",
              "      <th>1</th>\n",
              "      <td>1</td>\n",
              "      <td>Editor's note: In our Behind the Scenes series...</td>\n",
              "      <td>Mentally ill inmates in Miami are housed on th...</td>\n",
              "      <td>ee8871b15c50d0db17b0179a6d2beab35065f1e9</td>\n",
              "    </tr>\n",
              "    <tr>\n",
              "      <th>2</th>\n",
              "      <td>2</td>\n",
              "      <td>MINNEAPOLIS, Minnesota (CNN) -- Drivers who we...</td>\n",
              "      <td>NEW: \"I thought I was going to die,\" driver sa...</td>\n",
              "      <td>06352019a19ae31e527f37f7571c6dd7f0c5da37</td>\n",
              "    </tr>\n",
              "    <tr>\n",
              "      <th>3</th>\n",
              "      <td>3</td>\n",
              "      <td>WASHINGTON (CNN) -- Doctors removed five small...</td>\n",
              "      <td>Five small polyps found during procedure; \"non...</td>\n",
              "      <td>24521a2abb2e1f5e34e6824e0f9e56904a2b0e88</td>\n",
              "    </tr>\n",
              "    <tr>\n",
              "      <th>4</th>\n",
              "      <td>4</td>\n",
              "      <td>(CNN)  -- The National Football League has ind...</td>\n",
              "      <td>NEW: NFL chief, Atlanta Falcons owner critical...</td>\n",
              "      <td>7fe70cc8b12fab2d0a258fababf7d9c6b5e1262a</td>\n",
              "    </tr>\n",
              "  </tbody>\n",
              "</table>\n",
              "</div>\n",
              "      <button class=\"colab-df-convert\" onclick=\"convertToInteractive('df-d0ec88d4-0596-42c5-a244-708df45f8259')\"\n",
              "              title=\"Convert this dataframe to an interactive table.\"\n",
              "              style=\"display:none;\">\n",
              "        \n",
              "  <svg xmlns=\"http://www.w3.org/2000/svg\" height=\"24px\"viewBox=\"0 0 24 24\"\n",
              "       width=\"24px\">\n",
              "    <path d=\"M0 0h24v24H0V0z\" fill=\"none\"/>\n",
              "    <path d=\"M18.56 5.44l.94 2.06.94-2.06 2.06-.94-2.06-.94-.94-2.06-.94 2.06-2.06.94zm-11 1L8.5 8.5l.94-2.06 2.06-.94-2.06-.94L8.5 2.5l-.94 2.06-2.06.94zm10 10l.94 2.06.94-2.06 2.06-.94-2.06-.94-.94-2.06-.94 2.06-2.06.94z\"/><path d=\"M17.41 7.96l-1.37-1.37c-.4-.4-.92-.59-1.43-.59-.52 0-1.04.2-1.43.59L10.3 9.45l-7.72 7.72c-.78.78-.78 2.05 0 2.83L4 21.41c.39.39.9.59 1.41.59.51 0 1.02-.2 1.41-.59l7.78-7.78 2.81-2.81c.8-.78.8-2.07 0-2.86zM5.41 20L4 18.59l7.72-7.72 1.47 1.35L5.41 20z\"/>\n",
              "  </svg>\n",
              "      </button>\n",
              "      \n",
              "  <style>\n",
              "    .colab-df-container {\n",
              "      display:flex;\n",
              "      flex-wrap:wrap;\n",
              "      gap: 12px;\n",
              "    }\n",
              "\n",
              "    .colab-df-convert {\n",
              "      background-color: #E8F0FE;\n",
              "      border: none;\n",
              "      border-radius: 50%;\n",
              "      cursor: pointer;\n",
              "      display: none;\n",
              "      fill: #1967D2;\n",
              "      height: 32px;\n",
              "      padding: 0 0 0 0;\n",
              "      width: 32px;\n",
              "    }\n",
              "\n",
              "    .colab-df-convert:hover {\n",
              "      background-color: #E2EBFA;\n",
              "      box-shadow: 0px 1px 2px rgba(60, 64, 67, 0.3), 0px 1px 3px 1px rgba(60, 64, 67, 0.15);\n",
              "      fill: #174EA6;\n",
              "    }\n",
              "\n",
              "    [theme=dark] .colab-df-convert {\n",
              "      background-color: #3B4455;\n",
              "      fill: #D2E3FC;\n",
              "    }\n",
              "\n",
              "    [theme=dark] .colab-df-convert:hover {\n",
              "      background-color: #434B5C;\n",
              "      box-shadow: 0px 1px 3px 1px rgba(0, 0, 0, 0.15);\n",
              "      filter: drop-shadow(0px 1px 2px rgba(0, 0, 0, 0.3));\n",
              "      fill: #FFFFFF;\n",
              "    }\n",
              "  </style>\n",
              "\n",
              "      <script>\n",
              "        const buttonEl =\n",
              "          document.querySelector('#df-d0ec88d4-0596-42c5-a244-708df45f8259 button.colab-df-convert');\n",
              "        buttonEl.style.display =\n",
              "          google.colab.kernel.accessAllowed ? 'block' : 'none';\n",
              "\n",
              "        async function convertToInteractive(key) {\n",
              "          const element = document.querySelector('#df-d0ec88d4-0596-42c5-a244-708df45f8259');\n",
              "          const dataTable =\n",
              "            await google.colab.kernel.invokeFunction('convertToInteractive',\n",
              "                                                     [key], {});\n",
              "          if (!dataTable) return;\n",
              "\n",
              "          const docLinkHtml = 'Like what you see? Visit the ' +\n",
              "            '<a target=\"_blank\" href=https://colab.research.google.com/notebooks/data_table.ipynb>data table notebook</a>'\n",
              "            + ' to learn more about interactive tables.';\n",
              "          element.innerHTML = '';\n",
              "          dataTable['output_type'] = 'display_data';\n",
              "          await google.colab.output.renderOutput(dataTable, element);\n",
              "          const docLink = document.createElement('div');\n",
              "          docLink.innerHTML = docLinkHtml;\n",
              "          element.appendChild(docLink);\n",
              "        }\n",
              "      </script>\n",
              "    </div>\n",
              "  </div>\n",
              "  "
            ]
          },
          "metadata": {},
          "execution_count": 3
        }
      ]
    },
    {
      "cell_type": "code",
      "source": [
        "sample_data.shape"
      ],
      "metadata": {
        "colab": {
          "base_uri": "https://localhost:8080/"
        },
        "id": "yTBtCc5TEpKR",
        "outputId": "8aa66bc1-96a5-438e-9e51-961e425b20ae"
      },
      "execution_count": 4,
      "outputs": [
        {
          "output_type": "execute_result",
          "data": {
            "text/plain": [
              "(287113, 4)"
            ]
          },
          "metadata": {},
          "execution_count": 4
        }
      ]
    },
    {
      "cell_type": "code",
      "source": [
        "corpus=sample_data['article']\n",
        "# corpus=corpus[1]\n",
        "# corpus\n",
        "corpus = corpus[:11]\n",
        "len(corpus)"
      ],
      "metadata": {
        "colab": {
          "base_uri": "https://localhost:8080/"
        },
        "id": "uXz-UkxDE_jR",
        "outputId": "88411094-99c3-4df4-f02a-04f6d14f5224"
      },
      "execution_count": 5,
      "outputs": [
        {
          "output_type": "execute_result",
          "data": {
            "text/plain": [
              "11"
            ]
          },
          "metadata": {},
          "execution_count": 5
        }
      ]
    },
    {
      "cell_type": "code",
      "source": [
        "import spacy\n",
        "from spacy.lang.en.stop_words import STOP_WORDS\n",
        "from spacy.pipeline.tagger import DEFAULT_TAGGER_MODEL\n",
        "\n",
        "from string import punctuation\n",
        "from collections import Counter"
      ],
      "metadata": {
        "id": "fLFdk8HiFDpZ"
      },
      "execution_count": 6,
      "outputs": []
    },
    {
      "cell_type": "code",
      "source": [
        "nlp = spacy.load('en_core_web_sm')"
      ],
      "metadata": {
        "id": "tZYx8LP6HWTw"
      },
      "execution_count": 7,
      "outputs": []
    },
    {
      "cell_type": "code",
      "source": [
        "def find_topic_from_corpus(corpus, i=0):\n",
        "  possible_topics = {}\n",
        "  doc = nlp(corpus)\n",
        "  print(\"-------- Doc : \", (i+1), \"-------- Length of Doc : \", len(doc), \"--------\")\n",
        "  keywords = []\n",
        "  stopwords = list(STOP_WORDS)\n",
        "  pos_tag = ['PROPN', 'NOUN', 'VERB']\n",
        "\n",
        "  for token in doc:\n",
        "    if (token.text in stopwords or token.text in punctuation):\n",
        "      continue\n",
        "    if (token.pos_ in pos_tag):\n",
        "      keywords.append(token.text)\n",
        "  print(\"Len of keywords\", len(keywords))\n",
        "  \n",
        "  freq_word = Counter(keywords)\n",
        "  freq_word.most_common(5)\n",
        "\n",
        "  # Normalization\n",
        "  max_freq = Counter(keywords).most_common(1)[0][1]\n",
        "  for word in freq_word.keys():\n",
        "    freq_word[word] = (freq_word[word]/max_freq)\n",
        "  freq_word.most_common(5)\n",
        "\n",
        "  topics = \" \".join([word for word in  freq_word.keys() if (freq_word[word] > 0.5)])\n",
        "  # possible_topics[\"possible_s\"] = topics\n",
        "  possible_topics[\"possible_k\"] = []\n",
        "  # print(\"Possible Topics : \",topics)\n",
        "\n",
        "  topicdoc =  nlp(topics)\n",
        "  for token in topicdoc:\n",
        "    if token.pos_ == \"PROPN\" and token.dep_ in [\"compound\", \"ROOT\", \"nsubj\"]:\n",
        "      print(token.text, token.pos_)\n",
        "      possible_topics[\"possible_k\"].append([token.text, token.pos_, token.dep_])\n",
        "    elif token.pos_ == \"VERB\" and token.dep_ in [\"ROOT\"]:\n",
        "      print(token.text, token.pos_)\n",
        "      possible_topics[\"possible_k\"].append([token.text, token.pos_, token.dep_])\n",
        "    elif token.pos_ == \"NOUN\" and token.dep_ in [\"ROOT\", \"amod\"]:\n",
        "      print(token.text, token.pos_)\n",
        "      possible_topics[\"possible_k\"].append([token.text, token.pos_, token.dep_])\n",
        "    \n",
        "    # if token.pos_ == \"PROPN\":\n",
        "    #   print(token.text, token.pos_, token.dep_)\n",
        "    #   possible_topics[\"possible_k\"].append([token.text, token.pos_, token.dep_])\n",
        "    # else:\n",
        "    #   print(token.text, token.pos_, token.dep_)\n",
        "    #   possible_topics[\"possible_k\"].append([token.text, token.pos_, token.dep_])\n",
        "\n",
        "    possible_topics['possible_s'] = \" \".join([t[0] for t in possible_topics['possible_k']])\n",
        "  i += 1\n",
        "  return possible_topics"
      ],
      "metadata": {
        "id": "BZYT8htiIGLf"
      },
      "execution_count": 16,
      "outputs": []
    },
    {
      "cell_type": "code",
      "source": [
        "import en_gram_core_web_trf\n",
        "grammar = spacy.load(\"en_gram_core_web_trf\")"
      ],
      "metadata": {
        "id": "9pERYQVebzmu"
      },
      "execution_count": 36,
      "outputs": []
    },
    {
      "cell_type": "code",
      "source": [
        "i=0\n",
        "for article in corpus:\n",
        "  generated_topics = find_topic_from_corpus(article, i)\n",
        "  print(generated_topics)\n",
        "  i+=1\n",
        "\n",
        "  doc = grammar(\"START \"+generated_topics['possible_s'])\n",
        "  final_topic = \"\"\n",
        "  for token in doc:\n",
        "    print(token.text, token.tag_)\n",
        "    if \"KEEP\" in token.tag_:\n",
        "      final_topic += token.text + \" \"\n",
        "    if \"APPEND\" in token.tag_:\n",
        "      final_topic += token.text\n",
        "      tag_split = token.tag_.split(\"_\")\n",
        "      if tag_split[1] not in punctuation:\n",
        "        final_topic += tag_split[1] + \" \"\n",
        "  print(\"########## FINAL TOPIC ***\", final_topic.strip(), \"***\")"
      ],
      "metadata": {
        "colab": {
          "base_uri": "https://localhost:8080/"
        },
        "id": "eKo37RmLH6oc",
        "outputId": "f748fac3-122b-4f94-fe88-1e232f394c1a"
      },
      "execution_count": 37,
      "outputs": [
        {
          "output_type": "stream",
          "name": "stdout",
          "text": [
            "-------- Doc :  1 -------- Length of Doc :  555 --------\n",
            "Len of keywords 188\n",
            "Harry PROPN\n",
            "Potter PROPN\n",
            "Radcliffe PROPN\n",
            "{'possible_k': [['Harry', 'PROPN', 'compound'], ['Potter', 'PROPN', 'compound'], ['Radcliffe', 'PROPN', 'ROOT']], 'possible_s': 'Harry Potter Radcliffe'}\n",
            "START KEEP\n",
            "Harry KEEP\n",
            "Potter APPEND_:\n",
            "Radcliffe APPEND_?\n",
            "########## FINAL TOPIC *** START Harry PotterRadcliffe ***\n",
            "-------- Doc :  2 -------- Length of Doc :  836 --------\n",
            "Len of keywords 253\n",
            "Leifman PROPN\n",
            "says VERB\n",
            "{'possible_k': [['Leifman', 'PROPN', 'nsubj'], ['says', 'VERB', 'ROOT']], 'possible_s': 'Leifman says'}\n",
            "START KEEP\n",
            "Leifman KEEP\n",
            "says APPEND_.\n",
            "########## FINAL TOPIC *** START Leifman says ***\n",
            "-------- Doc :  3 -------- Length of Doc :  898 --------\n",
            "Len of keywords 281\n",
            "bridge PROPN\n",
            "said VERB\n",
            "{'possible_k': [['bridge', 'PROPN', 'nsubj'], ['said', 'VERB', 'ROOT']], 'possible_s': 'bridge said'}\n",
            "START APPEND_The\n",
            "bridge KEEP\n",
            "said APPEND_.\n",
            "########## FINAL TOPIC *** STARTThe bridge said ***\n",
            "-------- Doc :  4 -------- Length of Doc :  489 --------\n",
            "Len of keywords 217\n",
            "Bush PROPN\n",
            "said VERB\n",
            "{'possible_k': [['Bush', 'PROPN', 'nsubj'], ['said', 'VERB', 'ROOT']], 'possible_s': 'Bush said'}\n",
            "START KEEP\n",
            "Bush KEEP\n",
            "said APPEND_.\n",
            "########## FINAL TOPIC *** START Bush said ***\n",
            "-------- Doc :  5 -------- Length of Doc :  1155 --------\n",
            "Len of keywords 459\n",
            "Vick VERB\n",
            "{'possible_k': [['Vick', 'VERB', 'ROOT']], 'possible_s': 'Vick'}\n",
            "START KEEP\n",
            "Vick APPEND_?\n",
            "########## FINAL TOPIC *** START Vick ***\n",
            "-------- Doc :  6 -------- Length of Doc :  833 --------\n",
            "Len of keywords 286\n",
            "Youssif NOUN\n",
            "{'possible_k': [['Youssif', 'NOUN', 'ROOT']], 'possible_s': 'Youssif'}\n",
            "START KEEP\n",
            "Youssif APPEND_.\n",
            "########## FINAL TOPIC *** START Youssif ***\n",
            "-------- Doc :  7 -------- Length of Doc :  1081 --------\n",
            "Len of keywords 311\n",
            "says VERB\n",
            "{'possible_k': [['says', 'VERB', 'ROOT']], 'possible_s': 'says'}\n",
            "START APPEND_I\n",
            "says DELETE\n",
            "########## FINAL TOPIC *** STARTI ***\n",
            "-------- Doc :  8 -------- Length of Doc :  399 --------\n",
            "Len of keywords 181\n",
            "Colombia PROPN\n",
            "rebel VERB\n",
            "U.S. PROPN\n",
            "FARC PROPN\n",
            "Medina PROPN\n",
            "{'possible_k': [['Colombia', 'PROPN', 'nsubj'], ['rebel', 'VERB', 'ROOT'], ['U.S.', 'PROPN', 'compound'], ['FARC', 'PROPN', 'compound'], ['Medina', 'PROPN', 'compound']], 'possible_s': 'Colombia rebel U.S. FARC Medina'}\n",
            "START KEEP\n",
            "Colombia KEEP\n",
            "rebel KEEP\n",
            "U.S. KEEP\n",
            "FARC KEEP\n",
            "Medina APPEND_.\n",
            "########## FINAL TOPIC *** START Colombia rebel U.S. FARC Medina ***\n",
            "-------- Doc :  9 -------- Length of Doc :  637 --------\n",
            "Len of keywords 254\n",
            "Snow PROPN\n",
            "said VERB\n",
            "{'possible_k': [['Snow', 'PROPN', 'nsubj'], ['said', 'VERB', 'ROOT']], 'possible_s': 'Snow said'}\n",
            "START KEEP\n",
            "Snow KEEP\n",
            "said APPEND_.\n",
            "########## FINAL TOPIC *** START Snow said ***\n",
            "-------- Doc :  10 -------- Length of Doc :  434 --------\n",
            "Len of keywords 184\n",
            "Jersey PROPN\n",
            "said VERB\n",
            "{'possible_k': [['Jersey', 'PROPN', 'nsubj'], ['said', 'VERB', 'ROOT']], 'possible_s': 'Jersey said'}\n",
            "START KEEP\n",
            "Jersey KEEP\n",
            "said APPEND_.\n",
            "########## FINAL TOPIC *** START Jersey said ***\n",
            "-------- Doc :  11 -------- Length of Doc :  930 --------\n",
            "Len of keywords 356\n",
            "Iraq PROPN\n",
            "Bush PROPN\n",
            "war NOUN\n",
            "{'possible_k': [['Iraq', 'PROPN', 'compound'], ['Bush', 'PROPN', 'compound'], ['war', 'NOUN', 'ROOT']], 'possible_s': 'Iraq Bush war'}\n",
            "START KEEP\n",
            "Iraq KEEP\n",
            "Bush KEEP\n",
            "war APPEND_?\n",
            "########## FINAL TOPIC *** START Iraq Bush war ***\n"
          ]
        }
      ]
    },
    {
      "cell_type": "code",
      "source": [
        "article_sample  = '''\n",
        "thermodynamics, science of the relationship between heat, work, temperature, and energy. In broad terms, thermodynamics deals with the transfer of energy from one place to another and from one form to another. The key concept is that heat is a form of energy corresponding to a definite amount of mechanical work.\n",
        "Heat was not formally recognized as a form of energy until about 1798, when Count Rumford (Sir Benjamin Thompson), a British military engineer, noticed that limitless amounts of heat could be generated in the boring of cannon barrels and that the amount of heat generated is proportional to the work done in turning a blunt boring tool. Rumford’s observation of the proportionality between heat generated and work done lies at the foundation of thermodynamics. Another pioneer was the French military engineer Sadi Carnot, who introduced the concept of the heat-engine cycle and the principle of reversibility in 1824. Carnot’s work concerned the limitations on the maximum amount of work that can be obtained from a steam engine operating with a high-temperature heat transfer as its driving force. Later that century, these ideas were developed by Rudolf Clausius, a German mathematician and physicist, into the first and second laws of thermodynamics, respectively.\n",
        "The most important laws of thermodynamics are:\n",
        "The zeroth law of thermodynamics. When two systems are each in thermal equilibrium with a third system, the first two systems are in thermal equilibrium with each other. This property makes it meaningful to use thermometers as the “third system” and to define a temperature scale.\n",
        "The first law of thermodynamics, or the law of conservation of energy. The change in a system’s internal energy is equal to the difference between heat added to the system from its surroundings and work done by the system on its surroundings.\n",
        "The second law of thermodynamics. Heat does not flow spontaneously from a colder region to a hotter region, or, equivalently, heat at a given temperature cannot be converted entirely into work. Consequently, the entropy of a closed system, or heat energy per unit temperature, increases over time toward some maximum value. Thus, all closed systems tend toward an equilibrium state in which entropy is at a maximum and no energy is available to do useful work.\n",
        "The third law of thermodynamics. The entropy of a perfect crystal of an element in its most stable form tends to zero as the temperature approaches absolute zero. This allows an absolute scale for entropy to be established that, from a statistical point of view, determines the degree of randomness or disorder in a system.\n",
        "Although thermodynamics developed rapidly during the 19th century in response to the need to optimize the performance of steam engines, the sweeping generality of the laws of thermodynamics makes them applicable to all physical and biological systems. In particular, the laws of thermodynamics give a complete description of all changes in the energy state of any system and its ability to perform useful work on its surroundings.\n",
        "This article covers classical thermodynamics, which does not involve the consideration of individual atoms or molecules. Such concerns are the focus of the branch of thermodynamics known as statistical thermodynamics, or statistical mechanics, which expresses macroscopic thermodynamic properties in terms of the behaviour of individual particles and their interactions. It has its roots in the latter part of the 19th century, when atomic and molecular theories of matter began to be generally accepted.\n",
        "'''\n",
        "generated_topics = find_topic_from_corpus(article_sample)\n",
        "print(generated_topics)\n",
        "print(generated_topics[\"possible_k\"])\n",
        "\n",
        "doc = grammar(\"START \"+generated_topics['possible_s'])\n",
        "final_topic = \"\"\n",
        "for token in doc:\n",
        "  print(token.text, token.tag_)\n",
        "  if \"KEEP\" in token.tag_:\n",
        "    final_topic += token.text + \" \"\n",
        "  if \"APPEND\" in token.tag_:\n",
        "    final_topic += token.text + \" \"\n",
        "    tag_split = token.tag_.split(\"_\")\n",
        "    if tag_split[1] not in punctuation:\n",
        "        final_topic += tag_split[1] + \" \"\n",
        "print(\"########## FINAL TOPIC ***\", final_topic.strip(), \"***\")"
      ],
      "metadata": {
        "colab": {
          "base_uri": "https://localhost:8080/"
        },
        "id": "QJt6wz1zIEDM",
        "outputId": "61ebf547-8da9-4bb6-86c9-3dd63949cf2a"
      },
      "execution_count": 38,
      "outputs": [
        {
          "output_type": "stream",
          "name": "stdout",
          "text": [
            "-------- Doc :  1 -------- Length of Doc :  646 --------\n",
            "Len of keywords 218\n",
            "thermodynamics NOUN\n",
            "system NOUN\n",
            "{'possible_k': [['thermodynamics', 'NOUN', 'amod'], ['system', 'NOUN', 'ROOT']], 'possible_s': 'thermodynamics system'}\n",
            "[['thermodynamics', 'NOUN', 'amod'], ['system', 'NOUN', 'ROOT']]\n",
            "START KEEP\n",
            "thermodynamics KEEP\n",
            "system REPLACE_?\n",
            "########## FINAL TOPIC *** START thermodynamics ***\n"
          ]
        }
      ]
    },
    {
      "cell_type": "code",
      "source": [
        "article_sample='''\n",
        "While a number of definitions of artificial intelligence (AI) have surfaced over the last few decades, John McCarthy offers the following definition in this 2004 paper (PDF, 106 KB) (link resides outside IBM), \" It is the science and engineering of making intelligent machines, especially intelligent computer programs. It is related to the similar task of using computers to understand human intelligence, but AI does not have to confine itself to methods that are biologically observable.\"\n",
        "However, decades before this definition, the birth of the artificial intelligence conversation was denoted by Alan Turing's seminal work, \"Computing Machinery and Intelligence\" (PDF, 89.8 KB) (link resides outside of IBM), which was published in 1950. In this paper, Turing, often referred to as the \"father of computer science\", asks the following question, \"Can machines think?\"  From there, he offers a test, now famously known as the \"Turing Test\", where a human interrogator would try to distinguish between a computer and human text response. While this test has undergone much scrutiny since its publish, it remains an important part of the history of AI as well as an ongoing concept within philosophy as it utilizes ideas around linguistics.\n",
        "Stuart Russell and Peter Norvig then proceeded to publish, Artificial Intelligence: A Modern Approach (link resides outside IBM), becoming one of the leading textbooks in the study of AI. In it, they delve into four potential goals or definitions of AI, which differentiates computer systems on the basis of rationality and thinking vs. acting:\n",
        "Human approach:\n",
        "Systems that think like humans\n",
        "Systems that act like humans\n",
        "Ideal approach:\n",
        "Systems that think rationally\n",
        "Systems that act rationally\n",
        "Alan Turing’s definition would have fallen under the category of “systems that act like humans.”\n",
        "At its simplest form, artificial intelligence is a field, which combines computer science and robust datasets, to enable problem-solving. It also encompasses sub-fields of machine learning and deep learning, which are frequently mentioned in conjunction with artificial intelligence. These disciplines are comprised of AI algorithms which seek to create expert systems which make predictions or classifications based on input data.\n",
        "Today, a lot of hype still surrounds AI development, which is expected of any new emerging technology in the market. As noted in Gartner’s hype cycle (link resides outside IBM), product innovations like, self-driving cars and personal assistants, follow “a typical progression of innovation, from overenthusiasm through a period of disillusionment to an eventual understanding of the innovation’s relevance and role in a market or domain.” As Lex Fridman notes here (01:08:05) (link resides outside IBM) in his MIT lecture in 2019, we are at the peak of inflated expectations, approaching the trough of disillusionment.\n",
        "As conversations emerge around the ethics of AI, we can begin to see the initial glimpses of the trough of disillusionment. To read more on where IBM stands within the conversation around AI ethics, read more here.\n",
        "'''\n",
        "generated_topics=find_topic_from_corpus(article_sample)\n",
        "print(generated_topics)\n",
        "print(generated_topics['possible_k'])\n",
        "\n",
        "doc = grammar(\"START \"+generated_topics['possible_s'])\n",
        "final_topic = \"\"\n",
        "for token in doc:\n",
        "  print(token.text, token.tag_)\n",
        "  if \"KEEP\" in token.tag_:\n",
        "    final_topic += token.text + \" \"\n",
        "  if \"APPEND\" in token.tag_:\n",
        "    final_topic += token.text + \" \"\n",
        "    tag_split = token.tag_.split(\"_\")\n",
        "    if tag_split[1] not in punctuation:\n",
        "        final_topic += tag_split[1] + \" \"\n",
        "print(\"########## FINAL TOPIC ***\", final_topic.strip(), \"***\")"
      ],
      "metadata": {
        "colab": {
          "base_uri": "https://localhost:8080/"
        },
        "id": "d2jGLqr7KAnx",
        "outputId": "89855cc4-cd46-47b3-8b2b-ad4acb87201b"
      },
      "execution_count": 39,
      "outputs": [
        {
          "output_type": "stream",
          "name": "stdout",
          "text": [
            "-------- Doc :  1 -------- Length of Doc :  589 --------\n",
            "Len of keywords 224\n",
            "AI PROPN\n",
            "resides VERB\n",
            "IBM PROPN\n",
            "{'possible_k': [['AI', 'PROPN', 'compound'], ['resides', 'VERB', 'ROOT'], ['IBM', 'PROPN', 'compound']], 'possible_s': 'AI resides IBM'}\n",
            "[['AI', 'PROPN', 'compound'], ['resides', 'VERB', 'ROOT'], ['IBM', 'PROPN', 'compound']]\n",
            "START KEEP\n",
            "AI KEEP\n",
            "resides APPEND_in\n",
            "IBM APPEND_.\n",
            "########## FINAL TOPIC *** START AI resides in IBM ***\n"
          ]
        }
      ]
    },
    {
      "cell_type": "code",
      "source": [
        "article_sample='''\n",
        "What is a Network?\n",
        "A network consists of two or more computers that are linked in order to share resources (such as printers and CDs), exchange files, or allow electronic communications. The computers on a network may be linked through cables, telephone lines, radio waves, satellites, or infrared light beams.\n",
        "Two very common types of networks include:\n",
        "Local Area Network (LAN)\n",
        "Wide Area Network (WAN)\n",
        "You may also see references to a Metropolitan Area Networks (MAN), a Wireless LAN (WLAN), or a Wireless WAN (WWAN).\n",
        "Local Area Network\n",
        "A Local Area Network (LAN) is a network that is confined to a relatively small area. It is generally limited to a geographic area such as a writing lab, school, or building.\n",
        "Computers connected to a network are broadly categorized as servers or workstations. Servers are generally not used by humans directly, but rather run continuously to provide \"services\" to the other computers (and their human users) on the network. Services provided can include printing and faxing, software hosting, file storage and sharing, messaging, data storage and retrieval, complete access control (security) for the network's resources, and many others.\n",
        "Workstations are called such because they typically do have a human user which interacts with the network through them. Workstations were traditionally considered a desktop, consisting of a computer, keyboard, display, and mouse, or a laptop, with with integrated keyboard, display, and touchpad. With the advent of the tablet computer, and the touch screen devices such as iPad and iPhone, our definition of workstation is quickly evolving to include those devices, because of their ability to interact with the network and utilize network services.\n",
        "Servers tend to be more powerful than workstations, although configurations are guided by needs. For example, a group of servers might be located in a secure area, away from humans, and only accessed through the network. In such cases, it would be common for the servers to operate without a dedicated display or keyboard. However, the size and speed of the server's processor(s), hard drive, and main memory might add dramatically to the cost of the system. On the other hand, a workstation might not need as much storage or working memory, but might require an expensive display to accommodate the needs of its user. Every computer on a network should be appropriately configured for its use.\n",
        "On a single LAN, computers and servers may be connected by cables or wirelessly. Wireless access to a wired network is made possible by wireless access points (WAPs). These WAP devices provide a bridge between computers and networks. A typical WAP might have the theoretical capacity to connect hundreds or even thousands of wireless users to a network, although practical capacity might be far less.\n",
        "Nearly always servers will be connected by cables to the network, because the cable connections remain the fastest. Workstations which are stationary (desktops) are also usually connected by a cable to the network, although the cost of wireless adapters has dropped to the point that, when installing workstations in an existing facility with inadequate wiring, it can be easier and less expensive to use wireless for a desktop.\n",
        "See the Topology, Cabling, and Hardware sections of this tutorial for more information on the configuration of a LAN.\n",
        "Wide Area Network\n",
        "Wide Area Networks (WANs) connect networks in larger geographic areas, such as Florida, the United States, or the world. Dedicated transoceanic cabling or satellite uplinks may be used to connect this type of global network.\n",
        "Using a WAN, schools in Florida can communicate with places like Tokyo in a matter of seconds, without paying enormous phone bills. Two users a half-world apart with workstations equipped with microphones and a webcams might teleconference in real time. A WAN is complicated. It uses multiplexers, bridges, and routers to connect local and metropolitan networks to global communications networks like the Internet. To users, however, a WAN will not appear to be much different than a LAN.\n",
        "'''\n",
        "generated_topics=find_topic_from_corpus(article_sample)\n",
        "print(generated_topics)\n",
        "print(generated_topics['possible_k'])\n",
        "\n",
        "doc = grammar(\"START \"+generated_topics['possible_s'])\n",
        "final_topic = \"\"\n",
        "for token in doc:\n",
        "  print(token.text, token.tag_)\n",
        "  if \"KEEP\" in token.tag_:\n",
        "    final_topic += token.text + \" \"\n",
        "  if \"APPEND\" in token.tag_:\n",
        "    final_topic += token.text + \" \"\n",
        "    tag_split = token.tag_.split(\"_\")\n",
        "    if tag_split[1] not in punctuation:\n",
        "        final_topic += tag_split[1] + \" \"\n",
        "print(\"########## FINAL TOPIC ***\", final_topic.strip(), \"***\")"
      ],
      "metadata": {
        "colab": {
          "base_uri": "https://localhost:8080/"
        },
        "id": "_fuTfkKkD1_v",
        "outputId": "b775fc9d-77dc-44b9-9a18-1f09f59363e8"
      },
      "execution_count": 40,
      "outputs": [
        {
          "output_type": "stream",
          "name": "stdout",
          "text": [
            "-------- Doc :  1 -------- Length of Doc :  793 --------\n",
            "Len of keywords 286\n",
            "network NOUN\n",
            "{'possible_k': [['network', 'NOUN', 'ROOT']], 'possible_s': 'network'}\n",
            "[['network', 'NOUN', 'ROOT']]\n",
            "START KEEP\n",
            "network APPEND_?\n",
            "########## FINAL TOPIC *** START network ***\n"
          ]
        }
      ]
    },
    {
      "cell_type": "markdown",
      "source": [
        "Some rules for grammatically correct topic\n",
        "1. PROPN - compound\n",
        "2. PROPN - root\n",
        "3. PROPN - nsubj\n",
        "4. VERB - ROOT\n",
        "5. NOUN - root\n",
        "6. NOUN - amod"
      ],
      "metadata": {
        "id": "oSMkE52ydqpE"
      }
    },
    {
      "cell_type": "markdown",
      "source": [
        "# **trying to frame grammatically correct sentence**"
      ],
      "metadata": {
        "id": "suxt_IaQWLmY"
      }
    },
    {
      "cell_type": "code",
      "source": [
        "# !pip install spacy[transformers]==3.3.1"
      ],
      "metadata": {
        "id": "Umfdd-yjWSX-"
      },
      "execution_count": 32,
      "outputs": []
    },
    {
      "cell_type": "code",
      "source": [
        "# !pip install https://huggingface.co/hsengiv/en_gram_core_web_trf/resolve/main/en_gram_core_web_trf-any-py3-none-any.whl"
      ],
      "metadata": {
        "id": "ufxnWx6cXi9H"
      },
      "execution_count": 33,
      "outputs": []
    },
    {
      "cell_type": "code",
      "source": [
        "# !pip install spacy-transformers"
      ],
      "metadata": {
        "id": "BO91q58nYTgo"
      },
      "execution_count": 34,
      "outputs": []
    },
    {
      "cell_type": "code",
      "source": [
        "# Using spacy.load().\n",
        "import spacy\n",
        "import spacy_transformers\n",
        "import en_gram_core_web_trf\n",
        "grammar = spacy.load(\"en_gram_core_web_trf\")\n",
        "\n",
        "doc = grammar(\"START \"+generated_topics['possible_s'])\n",
        "for i in doc:\n",
        "  print(i.text, i.tag_)"
      ],
      "metadata": {
        "colab": {
          "base_uri": "https://localhost:8080/"
        },
        "id": "EBSzUUx0WcAW",
        "outputId": "8878b573-158a-4c5b-cfbc-1020ab08b2e2"
      },
      "execution_count": 31,
      "outputs": [
        {
          "output_type": "stream",
          "name": "stderr",
          "text": [
            "/usr/local/lib/python3.10/dist-packages/spacy/util.py:887: UserWarning: [W095] Model 'en_gram_core_web_trf' (0.0.1) was trained with spaCy v3.3 and may not be 100% compatible with the current version (3.5.2). If you see errors or degraded performance, download a newer compatible model or retrain your custom model with the current spaCy version. For more details and available updates, run: python -m spacy validate\n",
            "  model (Model): The parent model.\n"
          ]
        },
        {
          "output_type": "stream",
          "name": "stdout",
          "text": [
            "START KEEP\n",
            "Harry KEEP\n",
            "Potter APPEND_:\n",
            "Radcliffe APPEND_?\n"
          ]
        }
      ]
    }
  ]
}